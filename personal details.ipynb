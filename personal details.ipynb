{
  "nbformat": 4,
  "nbformat_minor": 0,
  "metadata": {
    "colab": {
      "name": "Untitled0.ipynb",
      "provenance": [],
      "authorship_tag": "ABX9TyNGDmMwsec4IjNqbQW+rGSD",
      "include_colab_link": true
    },
    "kernelspec": {
      "name": "python3",
      "display_name": "Python 3"
    },
    "language_info": {
      "name": "python"
    }
  },
  "cells": [
    {
      "cell_type": "markdown",
      "metadata": {
        "id": "view-in-github",
        "colab_type": "text"
      },
      "source": [
        "<a href=\"https://colab.research.google.com/github/Ashek-m/Python1/blob/main/personal%20details.ipynb\" target=\"_parent\"><img src=\"https://colab.research.google.com/assets/colab-badge.svg\" alt=\"Open In Colab\"/></a>"
      ]
    },
    {
      "cell_type": "code",
      "metadata": {
        "colab": {
          "base_uri": "https://localhost:8080/"
        },
        "id": "cEB9fU5y9nxV",
        "outputId": "64f2b9b1-6b95-4f2e-c4fd-ea23699e979e"
      },
      "source": [
        "name=(input(\"Enter your Name : \"))\n",
        "age=(input(\"Enter your Age : \"))\n",
        "address=(input(\"Enter your Address : \"))\n",
        "salary=(input(\"Enter your Salary : \"))\n",
        "no=(input(\"Enter your Mobile Number\"))\n",
        "print(\"NAME :\",name)\n",
        "print(\"\\nAGE :\",age)\n",
        "print(\"\\nADDRESS :\",address)\n",
        "print(\"\\nSALARY :\",salary)\n",
        "print(\"\\nMOBILE NUMBER :\",no)"
      ],
      "execution_count": 1,
      "outputs": [
        {
          "output_type": "stream",
          "text": [
            "Enter your Name : Ashek\n",
            "Enter your Age : 17\n",
            "Enter your Address : salem\n",
            "Enter your Salary : 60000\n",
            "Enter your Mobile Number1234567890\n",
            "NAME : Ashek\n",
            "\n",
            "AGE : 17\n",
            "\n",
            "ADDRESS : salem\n",
            "\n",
            "SALARY : 60000\n",
            "\n",
            "MOBILE NUMBER : 1234567890\n"
          ],
          "name": "stdout"
        }
      ]
    }
  ]
}